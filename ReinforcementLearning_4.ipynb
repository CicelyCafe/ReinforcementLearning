{
 "cells": [
  {
   "cell_type": "markdown",
   "metadata": {
    "colab_type": "text",
    "id": "pYs6LMEbNqoQ"
   },
   "source": [
    "# RL homework 4\n",
    "\n",
    "-------------------------------\n",
    "\n",
    "\n",
    "**Name:** Jiayun Yu\n",
    "\n",
    "\n",
    "-----------------------------------\n",
    "\n",
    "\n",
    "**Start date:** *29th March 2018*\n",
    "\n",
    "**Due date:** *19th April 2018, 4:55 pm*\n",
    "\n",
    "------------------------------------\n",
    "\n"
   ]
  },
  {
   "cell_type": "markdown",
   "metadata": {
    "colab_type": "text",
    "id": "9v_SYckYfv5G"
   },
   "source": [
    "## Context\n",
    "\n",
    "In this assignment, we will take a first look at learning decisions from data.  For this, we will use the multi-armed bandit framework.\n",
    "\n",
    "## Background reading\n",
    "\n",
    "* Sutton and Barto (2018), Chapters 6-7 + 9-11"
   ]
  },
  {
   "cell_type": "markdown",
   "metadata": {
    "colab_type": "text",
    "id": "ztQEQvnKh2t6"
   },
   "source": [
    "# Setup"
   ]
  },
  {
   "cell_type": "markdown",
   "metadata": {
    "colab_type": "text",
    "id": "qB0tQ4aiAaIu"
   },
   "source": [
    "### Import Useful Libraries"
   ]
  },
  {
   "cell_type": "code",
   "execution_count": 0,
   "metadata": {
    "colab": {
     "autoexec": {
      "startup": false,
      "wait_interval": 0
     }
    },
    "colab_type": "code",
    "collapsed": true,
    "id": "YzYtxi8Wh5SJ"
   },
   "outputs": [],
   "source": [
    "import matplotlib.pyplot as plt\n",
    "import numpy as np\n",
    "import tensorflow as tf\n",
    "from collections import namedtuple"
   ]
  },
  {
   "cell_type": "markdown",
   "metadata": {
    "colab_type": "text",
    "id": "6NDhSYfSDcCC"
   },
   "source": [
    "### Set options"
   ]
  },
  {
   "cell_type": "code",
   "execution_count": 0,
   "metadata": {
    "colab": {
     "autoexec": {
      "startup": false,
      "wait_interval": 0
     }
    },
    "colab_type": "code",
    "collapsed": true,
    "id": "Ps5OnkPmDbMX"
   },
   "outputs": [],
   "source": [
    "np.set_printoptions(precision=3, suppress=1)"
   ]
  },
  {
   "cell_type": "markdown",
   "metadata": {
    "colab_type": "text",
    "id": "cOu9RZY3AkF1"
   },
   "source": [
    "### Helper functions"
   ]
  },
  {
   "cell_type": "code",
   "execution_count": 0,
   "metadata": {
    "colab": {
     "autoexec": {
      "startup": false,
      "wait_interval": 0
     }
    },
    "colab_type": "code",
    "collapsed": true,
    "id": "6EttQGJ1n5Zn"
   },
   "outputs": [],
   "source": [
    "def run_experiment(env, agent, number_of_steps):\n",
    "    mean_reward = 0.\n",
    "    try:\n",
    "      action = agent.initial_action()\n",
    "    except AttributeError:\n",
    "      action = 0\n",
    "    for i in range(number_of_steps):\n",
    "      reward, discount, next_state = grid.step(action)\n",
    "      action = agent.step(reward, discount, next_state)\n",
    "      mean_reward += (reward - mean_reward)/(i + 1.)\n",
    "\n",
    "    return mean_reward\n",
    "\n",
    "map_from_action_to_subplot = lambda a: (2, 6, 8, 4)[a]\n",
    "map_from_action_to_name = lambda a: (\"up\", \"right\", \"down\", \"left\")[a]\n",
    "\n",
    "def plot_values(values, colormap='pink', vmin=None, vmax=None):\n",
    "  plt.imshow(values, interpolation=\"nearest\", cmap=colormap, vmin=vmin, vmax=vmax)\n",
    "  plt.yticks([])\n",
    "  plt.xticks([])\n",
    "  plt.colorbar(ticks=[vmin, vmax])\n",
    "\n",
    "def plot_action_values(action_values, vmin=None, vmax=None):\n",
    "  q = action_values\n",
    "  fig = plt.figure(figsize=(8, 8))\n",
    "  fig.subplots_adjust(wspace=0.3, hspace=0.3)\n",
    "  for a in [0, 1, 2, 3]:\n",
    "    plt.subplot(3, 3, map_from_action_to_subplot(a))\n",
    "    plot_values(q[..., a], vmin=vmin, vmax=vmax)\n",
    "    action_name = map_from_action_to_name(a)\n",
    "    plt.title(r\"$q(s, \\mathrm{\" + action_name + r\"})$\")\n",
    "    \n",
    "  plt.subplot(3, 3, 5)\n",
    "  v = 0.9 * np.max(q, axis=-1) + 0.1 * np.mean(q, axis=-1)\n",
    "  plot_values(v, colormap='summer', vmin=vmin, vmax=vmax)\n",
    "  plt.title(\"$v(s)$\")\n",
    "\n",
    "\n",
    "def plot_rewards(xs, rewards, color):\n",
    "  mean = np.mean(rewards, axis=0)\n",
    "  p90 = np.percentile(rewards, 90, axis=0)\n",
    "  p10 = np.percentile(rewards, 10, axis=0)\n",
    "  plt.plot(xs, mean, color=color, alpha=0.6)\n",
    "  plt.fill_between(xs, p90, p10, color=color, alpha=0.3)\n",
    "  \n",
    "\n",
    "def parameter_study(parameter_values, parameter_name,\n",
    "  agent_constructor, env_constructor, color, repetitions=10, number_of_steps=int(1e4)):\n",
    "  mean_rewards = np.zeros((repetitions, len(parameter_values)))\n",
    "  greedy_rewards = np.zeros((repetitions, len(parameter_values)))\n",
    "  for rep in range(repetitions):\n",
    "    for i, p in enumerate(parameter_values):\n",
    "      env = env_constructor()\n",
    "      agent = agent_constructor()\n",
    "      if 'eps' in parameter_name:\n",
    "        agent.set_epsilon(p)\n",
    "      elif 'alpha' in parameter_name:\n",
    "        agent._step_size = p\n",
    "      else:\n",
    "        raise NameError(\"Unknown parameter_name: {}\".format(parameter_name))\n",
    "      mean_rewards[rep, i] = run_experiment(grid, agent, number_of_steps)\n",
    "      agent.set_epsilon(0.)\n",
    "      agent._step_size = 0.\n",
    "      greedy_rewards[rep, i] = run_experiment(grid, agent, number_of_steps//10)\n",
    "      del env\n",
    "      del agent\n",
    "\n",
    "  plt.subplot(1, 2, 1)\n",
    "  plot_rewards(parameter_values, mean_rewards, color)\n",
    "  plt.yticks=([0, 1], [0, 1])\n",
    "  # plt.ylim((0, 1.5))\n",
    "  plt.ylabel(\"Average reward over first {} steps\".format(number_of_steps), size=12)\n",
    "  plt.xlabel(parameter_name, size=12)\n",
    "\n",
    "  plt.subplot(1, 2, 2)\n",
    "  plot_rewards(parameter_values, greedy_rewards, color)\n",
    "  plt.yticks=([0, 1], [0, 1])\n",
    "  # plt.ylim((0, 1.5))\n",
    "  plt.ylabel(\"Final rewards, with greedy policy\".format(number_of_steps), size=12)\n",
    "  plt.xlabel(parameter_name, size=12)\n",
    "  \n",
    "def epsilon_greedy(q_values, epsilon):\n",
    "  if epsilon < np.random.random():\n",
    "    return np.argmax(q_values)\n",
    "  else:\n",
    "    return np.random.randint(np.array(q_values).shape[-1])"
   ]
  },
  {
   "cell_type": "markdown",
   "metadata": {
    "colab_type": "text",
    "id": "zTJ3WYL8Y0GQ"
   },
   "source": [
    "### A small MRP"
   ]
  },
  {
   "cell_type": "code",
   "execution_count": 0,
   "metadata": {
    "colab": {
     "autoexec": {
      "startup": false,
      "wait_interval": 0
     }
    },
    "colab_type": "code",
    "collapsed": true,
    "id": "iPnQLBHsYzdq"
   },
   "outputs": [],
   "source": [
    "class SmallMRP(object):\n",
    "\n",
    "  def __init__(self, p=0.1):\n",
    "    self._state = 0\n",
    "    self._p = p\n",
    "\n",
    "  def get_state(self):\n",
    "    return self._state\n",
    "\n",
    "  def step(self):\n",
    "    reward = 0\n",
    "    discount = 1\n",
    "    if self._state == 0:\n",
    "      self._state = 1\n",
    "    else:\n",
    "      if np.random.random() < self._p:\n",
    "        self._state = 0\n",
    "        discount = 0\n",
    "      else:\n",
    "        self._state = 1\n",
    "\n",
    "    return reward, discount, self.get_obs()"
   ]
  },
  {
   "cell_type": "markdown",
   "metadata": {
    "colab_type": "text",
    "id": "HdojBKQ2CK9e"
   },
   "source": [
    "## Assignment 1 [50pts in total]\n",
    "\n",
    "We are going to analyze the simple Markov reward process (MRP - a MRP is an MDP without actions or, equivalently, with a single action in each state) defined in the code cell above.  It consists of two states.  The reward is zero everywhere.  When we are in state $s_0$, we always transition to $s_1$.  If we are in state $s_1$, there is a probability $p$ (which is set to 0.1 by default in the code above) of terminating, after which the next episode starts in $s_0$ again.  With a probability of $1 - p$, we transition from $s_1$ back to itself again.  The discount is $\\gamma = 1$ on non-terminal steps.\n",
    "\n",
    "#### [1pt] Question 1.1\n",
    "What is the optimal value in each state?\n",
    "\n",
    "The optimal value is zero in both state, since the reward is zero everywhere.\n",
    "\n",
    "#### [1pt] Question 1.2 \n",
    "Instead of a tabular representation, consider a single feature $\\phi$, which takes the values $\\phi(s_0) = 1$ and $\\phi(s_1) = 4$.  Now consider using linear function approximation, where we learn a value $\\theta$ such that $v_{\\theta}(s) = \\theta \\times \\phi(s) \\approx v(s)$, where $v(s)$ is the true value of state $s$.  What is the optimal value of $\\theta$?\n",
    "\n",
    "$v_{\\theta}(s) = \\theta \\times \\phi(s) \\approx 0$, $\\theta = 0$. The optimal value of $\\theta$ is zero.\n",
    "\n",
    "#### [8pts] Question 1.3\n",
    "Suppose $\\theta_0 = 1$, and suppose we update this parameter with TD(0) with a step size of $\\alpha = 0.1$.  What is the expected value of $\\mathbb{E}[ \\theta_T ]$ if we step through the MDP until it terminates after the first episode, as a function of $p$?  (Note that $T$ is random.)\n",
    "$$\\delta = R_{t+1}+\\gamma v_{\\theta}(s_{t+1})- v_{\\theta}(s_t)$$\n",
    "$$\\Delta \\theta_t = \\alpha \\delta_t \\phi(s_t)$$\n",
    "\n",
    "$$\\theta_1 = \\theta_0 + \\Delta \\theta_0 = 1+ 0.1 \\times (0+1 \\times1\\times4-1\\times1)\\times 1 = 1.3$$\n",
    "\n",
    "For $n\\geq 1$, if the next step is non-terminating, then $\\Delta \\theta_n = 0$ and $\\theta_n = 1.3$\n",
    "\n",
    "For the terminal step, $\\gamma = 0$\n",
    "\n",
    "\\begin{align*}\n",
    " \\theta_T &= \\theta_{T-1} + \\Delta \\theta_{T-1} \\\\\n",
    " &= \\theta_0 +\\alpha \\sum_{t=0}^{T-1}[\\gamma \\theta_t\\phi(s_{t+1})-\\theta_t \\phi(s_t)] \\\\\n",
    " &= \\theta_0 + \\Delta \\theta_0 + 0.1\\times4\\sum_{t=1}^{T-1}[\\gamma \\theta_t\\phi(s_{t+1})-\\theta_t \\phi(s_t)] \\\\\n",
    " &= 1.3 + 0.4\\times 4[0-\\theta_{T-1}]\\\\\n",
    " &= 1.3 - 0.4\\times 4\\times 1.3\\\\\n",
    " &= -0.78\n",
    "\\end{align*}\n",
    "\n",
    "\n",
    "Therefore, \n",
    "$$\\mathbb{E}[\\theta_T]=\n",
    "\\begin{cases}\n",
    " -0.78 & p \\in (0,1]\\\\\n",
    " 1.3 & p=0\n",
    "\\end{cases}\n",
    " $$\n",
    "\n",
    "\n",
    "#### [5pts] Question 1.3\n",
    "If $p=0.1$, how many episodes does it take, starting from $\\theta_0 = 1$, until $| v(s) - \\mathbb{E}[v_{\\theta}(s)] | < 0.5$ for all $s$, where the expectation is over the expected updates to $\\theta$?\n",
    "\\begin{align*}\n",
    " \\mathbb{E}[v_{\\theta}(s)] &= \\mathbb{E}[\\theta_n]\\phi(s)\\\\\n",
    " &= \\phi(s)(-0.78)^n\n",
    "\\end{align*}\n",
    "\n",
    "For n, it need to satisfy both $| v(s_0) - \\mathbb{E}[v_{\\theta}(s_0)] | < 0.5$ and $| v(s_1) - \\mathbb{E}[v_{\\theta}(s_1)] | < 0.5$.\n",
    "i.e. $$| 0 - 1\\times(-0.78)^n | < 0.5$$ and $$| 0 - 4\\times(-0.78)^n | < 0.5$$\n",
    "\n",
    "Solve both inequalities. \n",
    "$$n \\geq \\log_{0.78}0.5 = 2.8$$\n",
    "$$n \\geq \\log_{0.78}(0.5/4) = 8.4$$\n",
    "$$n=9$$\n",
    "\n",
    "In 9 episodes.\n",
    "\n",
    "\n",
    "#### Synchronous updates\n",
    "Consider the following algorithm: we use TD to update the parameters, but instead of using the online data, we assume we can actively sample a transition from both states.  We then update $\\theta$ using both samples:\n",
    "$$\n",
    "\\theta_{n+1} = \\theta_n + \\alpha \\delta_0 \\phi(s_0)+ \\alpha \\delta_1 \\phi(s_1) \\,,\n",
    "$$\n",
    "where $\\delta_i$ is a sampled one-step TD error when transitioning from state $s_i$.\n",
    "\n",
    "#### [10pts] Question 1.4\n",
    "\n",
    "What is the value of $\\mathbb{E}[\\theta_n]$, as a function of $n$ and $p$?\n",
    "\n",
    "$$\\delta_t = R_{t+1} +\\gamma v_{\\theta}(s_{t+1})- v_{\\theta}(s_t)$$\n",
    "\\begin{align*}\n",
    " \\delta_0 &= 0+1\\times \\theta_n \\times4- \\theta_n \\times1 = 3\\theta_n \\\\\n",
    " \\delta_1 &= \n",
    " \\begin{cases}\n",
    " 0& \\text{w/p. 1-p}\\\\\n",
    " -4\\theta_n& \\text{w/p. p}\n",
    " \\end{cases}\n",
    "\\end{align*}\n",
    "\n",
    "Take expectation on both sides, \n",
    "\\begin{align*}\n",
    " \\mathbb{E}[\\theta_{n+1}] &= \\mathbb{E}[\\theta_n] + \\alpha\\phi(s_0)\\mathbb{E}[\\delta_0]+ \\alpha\\phi(s_1)\\mathbb{E}[\\delta_1]\\\\\n",
    "  &= \\mathbb{E}[\\theta_n] + 0.1\\times1\\times3\\mathbb{E}[\\theta_n]+ 0.1\\times4[-4p\\mathbb{E}[\\theta_n]+0]\\\\\n",
    "  &= (1.3-1.6p)\\mathbb{E}[\\theta_n]\\\\\n",
    "  \\mathbb{E}[\\theta_n] &= (1.3-1.6p)^n \\theta_0=(1.3-1.6p)^n \n",
    "\\end{align*}\n",
    "#### [5pts] Question 1.5\n",
    "\n",
    "For which values of $p$ does not $\\theta$ converge to the optimal solution?\n",
    "$$|1.3-1.6p|\\geq 1$$\n",
    "$$ -1.6p \\geq -0.3$$\n",
    "$$0 \\leq p \\leq \\frac{3}{16}$$\n",
    "and the expectation converges to the optimal value $0$.\n",
    "\n",
    "#### [10pts] Question 1.5\n",
    "Why doesn't it?  TD is known to converge, with linear function approximation, under certain assumptions.  Explain for this concrete case why the algorithm does not converge, and explain which general assumption is violated that would otherwise ensure convergence of linear TD (in at most 200 words).\n",
    "\n",
    "According to the formula of synchronous updates, \n",
    "$$ \\theta_{n+1} = \n",
    "\\begin{cases}\n",
    " \\theta_n +0.3 \\theta_n & \\text{w/p. 1-p}\\\\\n",
    " \\theta_n -1.3\\theta_n &\\text{w/p. p}\n",
    "\\end{cases}$$\n",
    "\n",
    "$$\\mathbb{E}[\\theta_{n+1}|\\theta_n] = \\theta_n+\\alpha(b-A\\theta_n)$$\n",
    "where in our case, $b=0$  and $A = 13p-3(1-p)=16p-3$.\n",
    "\n",
    "If $0 \\leq p \\leq \\frac{3}{16}$, $A$ is non-positive definite, under what situation the algorithm is not stable and does not converge. \n",
    "\n",
    "#### [10pts] Question 1.5\n",
    "Describe a way to change the algorithm to obtain convergence of $\\theta$, for any $p$, without changing the sampling or the value function (which should remain as $v_{\\theta}(s) = \\theta \\times \\phi(s)$).  Note that the sampling is not sequential, so for instance you cannot add memory of previous states.  (At most 200 words.)\n",
    "\n",
    "We could probably use the Monte-Carlo with value function apporximation, where we use $G_t$ instead of $R_{t+1} +\\gamma v_{\\theta}(s_{t+1})$, and $G_t$ is the cumulative reward. For linear function, it finds the optimum.\n",
    "$$\\Delta \\theta = \\alpha(G_t -v_{\\theta}(s_t))\\phi(s_t)$$\n",
    "Since the our reward is zero everywhere, $G_t=0$. The update is not a function of p and $\\theta$will converge for any $p$.\n"
   ]
  },
  {
   "cell_type": "markdown",
   "metadata": {
    "colab_type": "text",
    "id": "c4v8_c7XqsEo"
   },
   "source": [
    "## Assignment 2 [50pts in total + 10 BONUS pts]"
   ]
  },
  {
   "cell_type": "markdown",
   "metadata": {
    "colab_type": "text",
    "id": "ALrRR76eAd6u"
   },
   "source": [
    "### A grid world"
   ]
  },
  {
   "cell_type": "code",
   "execution_count": 0,
   "metadata": {
    "colab": {
     "autoexec": {
      "startup": false,
      "wait_interval": 0
     }
    },
    "colab_type": "code",
    "collapsed": true,
    "id": "YP97bVN3NuG8"
   },
   "outputs": [],
   "source": [
    "class Grid(object):\n",
    "\n",
    "  def __init__(self, tabular=True, vision_size=1, noisy=False):\n",
    "    # -1: wall\n",
    "    # 0: empty, episode continues\n",
    "    # other: number indicates reward, episode will terminate\n",
    "    self._layout = np.array([\n",
    "      [-1, -1, -1, -1, -1, -1, -1, -1, -1, -1, -1, -1, -1, -1, -1, -1, -1],\n",
    "      [-1, -1, -1, -1, -1, -1, -1, -1, -1, -1, -1, -1, -1, -1, -1, -1, -1],\n",
    "      [-1, -1, -1,  0, -1, -1, -1, -1,  0, -1, -1, -1, -1,  0, -1, -1, -1],\n",
    "      [-1, -1,  0,  0,  0,  0,  0,  0,  0,  0,  0,  0,  0,  0,  0, -1, -1],\n",
    "      [-1, -1, -1,  0, -1, -1, -1, -1,  0, -1, -1, -1, -1,  0, -1, -1, -1],\n",
    "      [-1, -1, -1,  0, -1, -1, -1, -1,  0, -1, -1, -1, -1,  0, -1, -1, -1],\n",
    "      [-1, -1, -1,  0, -1, -1, -1, -1,  0, -1, -1, -1, -1,  0, -1, -1, -1],\n",
    "      [-1, -1, -1,  0, -1, -1, -1, -1,  0, -1, -1, -1, -1,  0, -1, -1, -1],\n",
    "      [-1, -1, -1,  0, -1, -1, -1, -1,  0, -1, -1, -1, -1,  0, -1, -1, -1],\n",
    "      [-1, -1, -1,  0, -1, -1, -1, -1,  0, -1, -1, -1, -1,  0, -1, -1, -1],\n",
    "      [-1, -1, -1, -5, -1, -1, -1, -1, -6, -1, -1, -1, -1, 10, -1, -1, -1],\n",
    "      [-1, -1, -1, -1, -1, -1, -1, -1, -1, -1, -1, -1, -1, -1, -1, -1, -1],\n",
    "      [-1, -1, -1, -1, -1, -1, -1, -1, -1, -1, -1, -1, -1, -1, -1, -1, -1],\n",
    "    ])\n",
    "    self._start_state = (3, 2)\n",
    "    self._state = self._start_state\n",
    "    self._number_of_states = np.prod(np.shape(self._layout))\n",
    "    self._noisy = noisy\n",
    "    self._tabular = tabular\n",
    "    self._vision_size = vision_size\n",
    "\n",
    "  @property\n",
    "  def number_of_states(self):\n",
    "      return self._number_of_states\n",
    "    \n",
    "  def plot_grid(self):\n",
    "    plt.figure(figsize=(4, 4))\n",
    "    plt.imshow(self._layout != -1, interpolation=\"nearest\", cmap='pink')\n",
    "#     plt.imshow(self._layout != -1, interpolation=\"nearest\")\n",
    "    ax = plt.gca()\n",
    "    ax.grid(0)\n",
    "    plt.xticks([])\n",
    "    plt.yticks([])\n",
    "    plt.title(\"The grid\")\n",
    "    plt.text(2, 3, r\"$\\mathbf{S}$\", ha='center', va='center')\n",
    "    goal_y, goal_x = np.where(self._layout==10)\n",
    "    plt.text(goal_x, goal_y, r\"$\\mathbf{G}$\", ha='center', va='center')\n",
    "    goal_y, goal_x = np.where(self._layout==-5)\n",
    "    plt.text(goal_x, goal_y, r\"$\\mathbf{D}$\", ha='center', va='center')\n",
    "    goal_y, goal_x = np.where(self._layout==-6)\n",
    "    plt.text(goal_x, goal_y, r\"$\\mathbf{D}$\", ha='center', va='center')\n",
    "    h, w = self._layout.shape\n",
    "    for y in range(h-1):\n",
    "      plt.plot([-0.5, w-0.5], [y+0.5, y+0.5], '-k', lw=2)\n",
    "    for x in range(w-1):\n",
    "      plt.plot([x+0.5, x+0.5], [-0.5, h-0.5], '-k', lw=2)\n",
    "\n",
    "  def get_obs(self):\n",
    "    y, x = self._state\n",
    "    return self.get_obs_at(x, y)\n",
    "\n",
    "  def get_obs_at(self, x, y):\n",
    "    if self._tabular:\n",
    "      return y*self._layout.shape[1] + x\n",
    "    else:\n",
    "      v = self._vision_size\n",
    "      location = np.clip(-self._layout[y-v:y+v+1,x-v:x+v+1], 0, 1)\n",
    "      return location\n",
    "\n",
    "  def step(self, action):\n",
    "    y, x = self._state\n",
    "    \n",
    "    if action == 0:  # up\n",
    "      new_state = (y - 1, x)\n",
    "    elif action == 1:  # right\n",
    "      new_state = (y, x + 1)\n",
    "    elif action == 2:  # down\n",
    "      new_state = (y + 1, x)\n",
    "    elif action == 3:  # left\n",
    "      new_state = (y, x - 1)\n",
    "    else:\n",
    "      raise ValueError(\"Invalid action: {} is not 0, 1, 2, or 3.\".format(action))\n",
    "\n",
    "    new_y, new_x = new_state\n",
    "    discount = 0.98\n",
    "    if self._layout[new_y, new_x] == -1:  # wall\n",
    "      reward = -1\n",
    "      new_state = (y, x)\n",
    "    elif self._layout[new_y, new_x] != 0: # a goal\n",
    "      reward = self._layout[new_y, new_x]\n",
    "      discount = 0.\n",
    "      new_state = self._start_state\n",
    "    else:\n",
    "      reward = (new_y + new_x) / np.sum(self._layout.shape)\n",
    "    if self._noisy:\n",
    "      width = self._layout.shape[1]\n",
    "      reward += 2*np.random.normal(0, width - new_x + new_y)\n",
    "    \n",
    "    self._state = new_state\n",
    "\n",
    "    return reward, discount, self.get_obs()\n",
    "    "
   ]
  },
  {
   "cell_type": "markdown",
   "metadata": {
    "colab_type": "text",
    "id": "UaGeLcsvixmt"
   },
   "source": [
    "### The grid\n",
    "\n",
    "The cell below shows the `Grid` environment that we will use. Here `S` indicates the start state and `G` indicates the goal.  The agent has four possible actions: up, right, down, and left.  Rewards are: `-1` for bumping into a wall, `+10` for reaching the goal, and `(x + y)/(height + width)` otherwise, which encourages the agent to go right and down.  The episode ends when the agent reaches the goal.  At the end of the left-most two corridors, there are distractor 'goals' (marked `D`) that give a reward of $-5$ and $-6$, and then also terminate the episode.  The discount, on continuing steps, is $\\gamma = 0.98$.  Feel free to reference the implemetation of the `Grid` above, under the header \"a grid world\"."
   ]
  },
  {
   "cell_type": "code",
   "execution_count": 6,
   "metadata": {
    "colab": {
     "autoexec": {
      "startup": false,
      "wait_interval": 0
     },
     "base_uri": "https://localhost:8080/",
     "height": 217
    },
    "colab_type": "code",
    "executionInfo": {
     "elapsed": 638,
     "status": "ok",
     "timestamp": 1523901334254,
     "user": {
      "displayName": "Jiayun Yu",
      "photoUrl": "https://lh3.googleusercontent.com/a/default-user=s128",
      "userId": "108994061219365480064"
     },
     "user_tz": -60
    },
    "id": "SlFuWFzIi5uB",
    "outputId": "e971a077-ee60-4da6-8360-dfd4d1a1c42a"
   },
   "outputs": [
    {
     "data": {
      "image/png": "[encoded data removed]",
      "text/plain": [
       "<matplotlib.figure.Figure at 0x7f109dad1590>"
      ]
     },
     "metadata": {
      "tags": []
     },
     "output_type": "display_data"
    }
   ],
   "source": [
    "grid = Grid()\n",
    "grid.plot_grid()\n"
   ]
  },
  {
   "cell_type": "markdown",
   "metadata": {
    "colab_type": "text",
    "id": "MKfA7ifHvO-M"
   },
   "source": [
    "\n",
    "## Implement agents\n",
    "**[10 pts]** In the next code cell, implement an agent that uses **tabular Sarsa** to learn action values.  The agent should act according to an $\\epsilon$-greedy policy with respect to its action values.\n",
    "\n",
    "The agent will be initialized with:\n",
    "```\n",
    "agent = Sarsa(number_of_states=grid._layout.size,\n",
    "              number_of_actions=4,\n",
    "              grid.get_obs())\n",
    "```"
   ]
  },
  {
   "cell_type": "code",
   "execution_count": 0,
   "metadata": {
    "colab": {
     "autoexec": {
      "startup": false,
      "wait_interval": 0
     }
    },
    "colab_type": "code",
    "collapsed": true,
    "id": "u_hLSL8anhsv"
   },
   "outputs": [],
   "source": [
    "class Sarsa(object):\n",
    "\n",
    "  def __init__(self, number_of_states, number_of_actions, initial_state, step_size=0.1):\n",
    "    self._s = initial_state\n",
    "    self._a = 0\n",
    "    self._alpha = step_size\n",
    "    self._q = np.zeros((number_of_states, number_of_actions))\n",
    "    \n",
    "  @property\n",
    "  def q_values(self):\n",
    "    # This function should return the action values for all states and actions\n",
    "    # in a numpy arrar of shape (number_of_states, number_of_actions)\n",
    "    return self._q\n",
    "\n",
    "  def step(self, r, g, s):\n",
    "    # This function should return an action\n",
    "    #reward, discount, next_state\n",
    "    #t\n",
    "    next_a = epsilon_greedy(self._q[s,:], 0.1)\n",
    "    self._q[self._s, self._a] += self._alpha*(r + g*self._q[s, next_a]-self._q[self._s,self._a]) \n",
    "    \n",
    "    self._s = s\n",
    "    self._a = next_a\n",
    "    \n",
    "    return self._a"
   ]
  },
  {
   "cell_type": "code",
   "execution_count": 0,
   "metadata": {
    "colab": {
     "autoexec": {
      "startup": false,
      "wait_interval": 0
     }
    },
    "colab_type": "code",
    "collapsed": true,
    "id": "7bP0fg0gamUM"
   },
   "outputs": [],
   "source": []
  },
  {
   "cell_type": "markdown",
   "metadata": {
    "colab_type": "text",
    "id": "oMr_z0RZsHNj"
   },
   "source": [
    "**[20 pts]** Implement an agent that uses **neural Sarsa** to learn action values.  The agent should expect a nxn input which it should flatten into a vector, and then pass through a multi-layer perceptron with a single hidden layer with 100 hidden nodes and ReLU activations.  Each weight layer should also have a bias.  Initialize all weights uniformly randomly in $[-0.05, 0.05]$.\n",
    "\n",
    "```\n",
    "NeuralSarsa(number_of_features=(2*vision_size + 1)**2,\n",
    "            number_of_hidden=100,\n",
    "            number_of_actions=4,\n",
    "            initial_state=grid.get_obs(),\n",
    "            step_size=0.01)\n",
    "```\n",
    "\n",
    "The number `vision_size` will be either 1 or 2 below.  The input vector will be of size $(2v + 1)^2$, which will correspond to a square local view of the grid, centered on the agent, and of size $(2v + 1) \\times (2v + 1)$ (so either 3x3 or 5x5).\n",
    "\n",
    "You are allowed, but not mandated, to use TensorFlow to implement this agent.  (The network is small enough that you can also use numpy, but then you have to implement your own backprop.)  Please document the code clearly, especially on non-trivial operations."
   ]
  },
  {
   "cell_type": "code",
   "execution_count": 0,
   "metadata": {
    "colab": {
     "autoexec": {
      "startup": false,
      "wait_interval": 0
     }
    },
    "colab_type": "code",
    "collapsed": true,
    "id": "fppAqbUOn8cO"
   },
   "outputs": [],
   "source": [
    "class NeuralSarsa(object):\n",
    "\n",
    "  def __init__(self, number_of_features, number_of_hidden, number_of_actions, initial_state, step_size=0.01):\n",
    "    self._number_of_features = number_of_features\n",
    "    self._number_of_hidden = number_of_hidden\n",
    "    self._number_of_actions = number_of_actions\n",
    "    self._s = initial_state\n",
    "    self._a = 0\n",
    "    self._alpha = step_size\n",
    "    self.getgraph()\n",
    "    self.runsess()\n",
    "    \n",
    "  def q(self, obs):\n",
    "    # This function should give the vector of action values for observation obs\n",
    "    reshape = obs.reshape(1, -1)\n",
    "    q_s = self.sess.run(self.q_t1, feed_dict = {self.s_t1: reshape})\n",
    "    return q_s.reshape(4,)\n",
    "    \n",
    "  \n",
    "  def step(self, r, g, s):\n",
    "    # This function should return an action\n",
    "    next_a = epsilon_greedy(self.q(s), 0.1)\n",
    "    feed_dict = {self.s_t: self._s, self.s_t1: s, self._r: r, self._g: g, self.a_t: self._a, self.a_t1: next_a}\n",
    "    self.sess.run(self.optimizer, feed_dict = feed_dict)\n",
    "    \n",
    "    self._s = s\n",
    "    self._a = next_a\n",
    "    \n",
    "    return self._a\n",
    "    \n",
    "    \n",
    "  def variable(self, a, b):\n",
    "    return tf.Variable(tf.random_uniform([a, b], -0.05, 0.05))\n",
    "  \n",
    "  def initial(self):\n",
    "    self.s_t = tf.placeholder(tf.int32, [None, None])\n",
    "    self.s_t1 = tf.placeholder(tf.int32, [None, None])\n",
    "    self.a_t = tf.placeholder(tf.int32, None) \n",
    "    self.a_t1 = tf.placeholder(tf.int32, None)\n",
    "    self._r = tf.placeholder(tf.float32, None)\n",
    "    self._g = tf.placeholder(tf.float32, None)\n",
    "    \n",
    "    self._w1 = self.variable(self._number_of_features, self._number_of_hidden)\n",
    "    self._b1 = self.variable(1, self._number_of_hidden)\n",
    "    self._w2 = self.variable(self._number_of_hidden, self._number_of_actions )\n",
    "    self._b2 = self.variable(1,self._number_of_actions )\n",
    "    \n",
    "  \n",
    "  def neuralnet(self, x):\n",
    "    flatten = tf.cast(tf.reshape(x, [1,-1]), tf.float32)\n",
    "    hidden = tf.nn.relu(tf.matmul(flatten, self._w1) + self._b1)\n",
    "    output = tf.matmul(hidden, self._w2) + self._b2\n",
    "    return output\n",
    "    \n",
    "  def runsess(self):\n",
    "    self.sess = tf.Session()\n",
    "    self.sess.run(tf.global_variables_initializer())\n",
    "    \n",
    "  def getgraph(self):\n",
    "    tf.reset_default_graph()\n",
    "    self.initial()\n",
    "    \n",
    "    self.q_t = self.neuralnet(self.s_t)\n",
    "    self.q_t1 = self.neuralnet(self.s_t1)\n",
    "  \n",
    "    self._delta = self._r + self._g * self.q_t1[:, self.a_t1] - self.q_t[:, self.a_t]\n",
    "    self.q_loss = tf.square(self._delta)/2\n",
    "    \n",
    "    self.optimizer = tf.train.GradientDescentOptimizer(self._alpha).minimize(self.q_loss)"
   ]
  },
  {
   "cell_type": "markdown",
   "metadata": {
    "colab_type": "text",
    "id": "1jZsPzCmDxAh"
   },
   "source": [
    "# Analyse Results"
   ]
  },
  {
   "cell_type": "markdown",
   "metadata": {
    "colab_type": "text",
    "id": "xQkk8sMxE0N4"
   },
   "source": [
    "### Run the cells below to train the tabular and neural SARSA agents and to generate plots.\n",
    "\n",
    "This trains the agents the Grid problem with an epsilon of 0.1.\n",
    "\n",
    "The plots below will show action values for each of the actions, as well as a state value defined by $v(s) = \\sum_a \\pi(a|s) q(s, a)$."
   ]
  },
  {
   "cell_type": "code",
   "execution_count": 9,
   "metadata": {
    "cellView": "both",
    "colab": {
     "autoexec": {
      "startup": false,
      "wait_interval": 0
     },
     "base_uri": "https://localhost:8080/",
     "height": 466
    },
    "colab_type": "code",
    "executionInfo": {
     "elapsed": 3703,
     "status": "ok",
     "timestamp": 1523901350042,
     "user": {
      "displayName": "Jiayun Yu",
      "photoUrl": "https://lh3.googleusercontent.com/a/default-user=s128",
      "userId": "108994061219365480064"
     },
     "user_tz": -60
    },
    "id": "GsNBHNZtHCPe",
    "outputId": "fc2c85ef-8c93-4814-9eb2-b101e96c1e1f"
   },
   "outputs": [
    {
     "data": {
      "image/png": "[encoded data removed]",
      "text/plain": [
       "<matplotlib.figure.Figure at 0x7f109db2ded0>"
      ]
     },
     "metadata": {
      "tags": []
     },
     "output_type": "display_data"
    }
   ],
   "source": [
    "grid = Grid()\n",
    "agent = Sarsa(number_of_states=grid._layout.size,\n",
    "              number_of_actions=4,\n",
    "              initial_state=grid.get_obs())\n",
    "run_experiment(grid, agent, int(1e5))\n",
    "q = agent.q_values.reshape(grid._layout.shape + (4,))\n",
    "plot_action_values(q)"
   ]
  },
  {
   "cell_type": "code",
   "execution_count": 14,
   "metadata": {
    "colab": {
     "autoexec": {
      "startup": false,
      "wait_interval": 0
     },
     "base_uri": "https://localhost:8080/",
     "height": 466
    },
    "colab_type": "code",
    "executionInfo": {
     "elapsed": 107049,
     "status": "ok",
     "timestamp": 1523901559208,
     "user": {
      "displayName": "Jiayun Yu",
      "photoUrl": "https://lh3.googleusercontent.com/a/default-user=s128",
      "userId": "108994061219365480064"
     },
     "user_tz": -60
    },
    "id": "K-JnvcP0mrxF",
    "outputId": "d22c31ea-431d-4f22-a28e-2d28f4b8f3a2"
   },
   "outputs": [
    {
     "data": {
      "image/png": "[encoded data removed]",
      "text/plain": [
       "<matplotlib.figure.Figure at 0x7f109da8cbd0>"
      ]
     },
     "metadata": {
      "tags": []
     },
     "output_type": "display_data"
    }
   ],
   "source": [
    "vision_size = 1\n",
    "grid = Grid(tabular=False, vision_size=vision_size)\n",
    "agent = NeuralSarsa(number_of_features=(2*vision_size + 1)**2,\n",
    "                    number_of_hidden=100,\n",
    "                    number_of_actions=4,\n",
    "                    initial_state=grid.get_obs(),\n",
    "                    step_size=0.01)\n",
    "run_experiment(grid, agent, int(1e5))\n",
    "h, w = grid._layout.shape\n",
    "obs = np.array([[grid.get_obs_at(x, y) for x in range(2, w-2)] for y in range(2, h-2)])\n",
    "qs = np.array([[[agent.q(o)[a] for a in range(4)] if o[vision_size,vision_size] == 0 else np.zeros((4,)) for o in ob] for ob in obs])\n",
    "plot_action_values(qs)"
   ]
  },
  {
   "cell_type": "code",
   "execution_count": 16,
   "metadata": {
    "colab": {
     "autoexec": {
      "startup": false,
      "wait_interval": 0
     },
     "base_uri": "https://localhost:8080/",
     "height": 466
    },
    "colab_type": "code",
    "executionInfo": {
     "elapsed": 107800,
     "status": "ok",
     "timestamp": 1523901890119,
     "user": {
      "displayName": "Jiayun Yu",
      "photoUrl": "https://lh3.googleusercontent.com/a/default-user=s128",
      "userId": "108994061219365480064"
     },
     "user_tz": -60
    },
    "id": "tmGFDriIPsGz",
    "outputId": "2434864a-4962-4b7c-c2e3-b9214240f6b7"
   },
   "outputs": [
    {
     "data": {
      "image/png": "[encoded data removed]",
      "text/plain": [
       "<matplotlib.figure.Figure at 0x7f109b6c61d0>"
      ]
     },
     "metadata": {
      "tags": []
     },
     "output_type": "display_data"
    }
   ],
   "source": [
    "vision_size = 2\n",
    "grid = Grid(tabular=False, vision_size=vision_size)\n",
    "agent = NeuralSarsa(number_of_features=(2*vision_size + 1)**2,\n",
    "                    number_of_hidden=100,\n",
    "                    number_of_actions=4,\n",
    "                    initial_state=grid.get_obs(),\n",
    "                    step_size=0.01)\n",
    "run_experiment(grid, agent, int(1e5))\n",
    "h, w = grid._layout.shape\n",
    "obs = np.array([[grid.get_obs_at(x, y) for x in range(2, w-2)] for y in range(2, h-2)])\n",
    "qs = np.array([[[agent.q(o)[a] for a in range(4)] if o[vision_size,vision_size] == 0 else np.zeros((4,)) for o in ob] for ob in obs])\n",
    "plot_action_values(qs)"
   ]
  },
  {
   "cell_type": "markdown",
   "metadata": {
    "colab_type": "text",
    "id": "LGptHwE23lmP"
   },
   "source": [
    "## Questions\n",
    "\n",
    "Consider the greedy policy with respect to the estimated values\n",
    "\n",
    "**[5 pts]** Which algorithm performed best?  Why?\n",
    "\n",
    "Tabular is better than neural algorithm. Because in tabular setting, we store all the values from real exploring experiences. However, in the Neural Sarsa, we present states in terms of feature vectors and implement them by a linear approximation. Therefore, the performance of the approximation would largly depend on the feature and the funtion which maps the state to a feature vector in terms of $\\theta$. \n",
    "\n",
    "**[5 pts]** Is there a difference in the solution found by Neural Sarsa with a vision size of 1 (so 3x3 local observations), and a vision size of 2 (so 5x5 local observations)?  Why?\n",
    "\n",
    "By a local observation of size 5x5, we could take a wider range of feature into account. However, for the plot there isn't a huge difference.\n",
    "\n",
    "**[10 pts]** How could we improve the performance of the Neural Sarsa agent on this domain (for both vision sizes)?  Identify the main issue, and propose a concrete solution (in max 200 words).\n",
    "\n",
    "The input has been flatten into a vector therefore the weight every pixel in the 3x3 or 5x5 window. Since we are particularly interested in the q-value in the direction of up, down, left and right, probably we could give more weights on the pixels in these four directions.\n",
    "\n"
   ]
  }
 ],
 "metadata": {
  "colab": {
   "collapsed_sections": [],
   "default_view": {},
   "name": "13006263_RL_hw4.ipynb",
   "provenance": [
    {
     "file_id": "1a1ONHRz5bcd2rJyLUD53OUMR8npSp0QZ",
     "timestamp": 1522325021849
    },
    {
     "file_id": "1Ldj742iIDtvjYKKwENvrpTQ3Hm2wrqIg",
     "timestamp": 1521476023411
    },
    {
     "file_id": "1FwMxkDPkt68fxovrMmmWwm6ohYvX2wt1",
     "timestamp": 1517660129183
    },
    {
     "file_id": "1wwTq5nociiMHUb26jxrvZvGN6l11xV5o",
     "timestamp": 1517174839485
    },
    {
     "file_id": "1_gJNoj9wG4mnigscGRAcZx7RHix3HCjG",
     "timestamp": 1515086437469
    },
    {
     "file_id": "1hcBeMVfaSh8g1R2ujtmxOSHoxJ8xYkaW",
     "timestamp": 1511098107887
    }
   ],
   "version": "0.3.2",
   "views": {}
  },
  "kernelspec": {
   "display_name": "Python 3",
   "language": "python",
   "name": "python3"
  },
  "varInspector": {
   "cols": {
    "lenName": 16,
    "lenType": 16,
    "lenVar": 40
   },
   "kernels_config": {
    "python": {
     "delete_cmd_postfix": "",
     "delete_cmd_prefix": "del ",
     "library": "var_list.py",
     "varRefreshCmd": "print(var_dic_list())"
    },
    "r": {
     "delete_cmd_postfix": ") ",
     "delete_cmd_prefix": "rm(",
     "library": "var_list.r",
     "varRefreshCmd": "cat(var_dic_list()) "
    }
   },
   "types_to_exclude": [
    "module",
    "function",
    "builtin_function_or_method",
    "instance",
    "_Feature"
   ],
   "window_display": false
  }
 },
 "nbformat": 4,
 "nbformat_minor": 1
}
